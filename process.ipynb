{
 "cells": [
  {
   "cell_type": "code",
   "execution_count": 1,
   "metadata": {},
   "outputs": [],
   "source": [
    "import csv\n",
    "import json"
   ]
  },
  {
   "cell_type": "code",
   "execution_count": 2,
   "metadata": {},
   "outputs": [],
   "source": [
    "def get_verbs(verb_file):\n",
    "    with open(verb_file, 'r') as f:\n",
    "        reader = csv.DictReader(f)\n",
    "        return list(reader)"
   ]
  },
  {
   "cell_type": "code",
   "execution_count": 3,
   "metadata": {},
   "outputs": [
    {
     "name": "stdout",
     "output_type": "stream",
     "text": [
      "34\n"
     ]
    },
    {
     "data": {
      "text/plain": [
       "[{'Verb (alias)': 'Add (a)',\n",
       "  'Action': 'Adds a resource to a container, or attaches an item to another item. For example, the Add-Content cmdlet adds content to a file. This verb is paired with Remove.',\n",
       "  'Synonyms to avoid': 'Append, Attach, Concatenate, Insert',\n",
       "  'Verb': 'Add',\n",
       "  'Alias': 'a'},\n",
       " {'Verb (alias)': 'Clear (cl)',\n",
       "  'Action': 'Removes all the resources from a container but does not delete the container. For example, the Clear-Content cmdlet removes the contents of a file but does not delete the file.',\n",
       "  'Synonyms to avoid': 'Flush, Erase, Release, Unmark, Unset, Nullify',\n",
       "  'Verb': 'Clear',\n",
       "  'Alias': 'cl'},\n",
       " {'Verb (alias)': 'Close (cs)',\n",
       "  'Action': 'Changes the state of a resource to make it inaccessible, unavailable, or unusable. This verb is paired with Open.',\n",
       "  'Synonyms to avoid': '',\n",
       "  'Verb': 'Close',\n",
       "  'Alias': 'cs'}]"
      ]
     },
     "execution_count": 3,
     "metadata": {},
     "output_type": "execute_result"
    }
   ],
   "source": [
    "verbs = get_verbs('./data/powershell_verbs.csv')\n",
    "print(len(verbs))\n",
    "verbs[:3]"
   ]
  },
  {
   "cell_type": "code",
   "execution_count": 4,
   "metadata": {},
   "outputs": [
    {
     "data": {
      "text/plain": [
       "[{'Action': 'Adds a resource to a container, or attaches an item to another item.',\n",
       "  'Verb': 'add',\n",
       "  'Synonyms': ['append', 'attach', 'concatenate', 'insert']},\n",
       " {'Action': 'Removes all the resources from a container but does not delete the container.',\n",
       "  'Verb': 'clear',\n",
       "  'Synonyms': ['flush', 'erase', 'release', 'unmark', 'unset', 'nullify']},\n",
       " {'Action': 'Changes the state of a resource to make it inaccessible, unavailable, or unusable.',\n",
       "  'Verb': 'close',\n",
       "  'Synonyms': []}]"
      ]
     },
     "execution_count": 4,
     "metadata": {},
     "output_type": "execute_result"
    }
   ],
   "source": [
    "verbs = get_verbs('./data/powershell_verbs.csv')\n",
    "\n",
    "for i in range(len(verbs)):\n",
    "    # Shorten \"Action\" column\n",
    "    action = verbs[i]['Action']\n",
    "    action = action.split('. ', 2)[0]\n",
    "    if not action.endswith('.'):\n",
    "        action += '.'\n",
    "    verbs[i]['Action'] = action\n",
    "\n",
    "    # Make \"Synonyms\" column\n",
    "    synonyms = verbs[i]['Synonyms to avoid']\n",
    "    synonyms = synonyms.split(',')\n",
    "    synonyms = map(lambda s: s.strip().lower(), synonyms)\n",
    "    synonyms = filter(lambda s: len(s) != 0, synonyms)\n",
    "    synonyms = list(synonyms)\n",
    "    verbs[i]['Synonyms'] = synonyms\n",
    "\n",
    "    # Make \"Verb\" column lowercase\n",
    "    verb = verbs[i]['Verb']\n",
    "    verbs[i]['Verb'] = verb.lower().strip()\n",
    "    assert len(verb) != 0\n",
    "\n",
    "    # Delete unused columns\n",
    "    del verbs[i]['Verb (alias)']\n",
    "    del verbs[i]['Synonyms to avoid']\n",
    "    del verbs[i]['Alias']\n",
    "\n",
    "with open('./data/verbs.json', 'w') as f:\n",
    "    json.dump({ 'verbs': verbs }, f)\n",
    "\n",
    "verbs[:3]"
   ]
  },
  {
   "cell_type": "code",
   "execution_count": 5,
   "metadata": {},
   "outputs": [
    {
     "data": {
      "text/plain": [
       "[{'Action': 'Adds a resource to a container, or attaches an item to another item.',\n",
       "  'Verb': 'add',\n",
       "  'Synonyms': ['append', 'attach', 'concatenate', 'insert']},\n",
       " {'Action': 'Removes all the resources from a container but does not delete the container.',\n",
       "  'Verb': 'clear',\n",
       "  'Synonyms': ['flush', 'erase', 'release', 'unmark', 'unset', 'nullify']},\n",
       " {'Action': 'Changes the state of a resource to make it inaccessible, unavailable, or unusable.',\n",
       "  'Verb': 'close',\n",
       "  'Synonyms': []}]"
      ]
     },
     "execution_count": 5,
     "metadata": {},
     "output_type": "execute_result"
    }
   ],
   "source": [
    "with open('./data/verbs.json', 'r') as f:\n",
    "    data = json.load(f)\n",
    "assert type(data) == dict\n",
    "\n",
    "data['verbs'][:3]"
   ]
  }
 ],
 "metadata": {
  "kernelspec": {
   "display_name": ".venv",
   "language": "python",
   "name": "python3"
  },
  "language_info": {
   "codemirror_mode": {
    "name": "ipython",
    "version": 3
   },
   "file_extension": ".py",
   "mimetype": "text/x-python",
   "name": "python",
   "nbconvert_exporter": "python",
   "pygments_lexer": "ipython3",
   "version": "3.10.11"
  }
 },
 "nbformat": 4,
 "nbformat_minor": 2
}
